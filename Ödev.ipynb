{
 "cells": [
  {
   "cell_type": "code",
   "execution_count": 1,
   "metadata": {
    "executionInfo": {
     "elapsed": 40,
     "status": "ok",
     "timestamp": 1759854329114,
     "user": {
      "displayName": "Berkay Kaplan",
      "userId": "10737442907259944508"
     },
     "user_tz": -180
    },
    "id": "O3zXtuAlcW0A"
   },
   "outputs": [],
   "source": []
  },
  {
   "cell_type": "markdown",
   "metadata": {
    "id": "tBPymOAtfaOd"
   },
   "source": [
    "📚 PYTHON TEMELLERİ - DETAYLI KONU ÖZETİ\n",
    "🔹 1. Aritmetik Operatörler\n",
    "Temel Matematiksel İşlemler:\n",
    "\n",
    "+, -, *, / → Temel işlemler\n",
    "\n",
    "// → Tam sayı bölme (aşağı yuvarlar)\n",
    "\n",
    "% → Kalan bulma\n",
    "\n",
    "** → Üs alma\n",
    "\n",
    "Önemli Not: Stringlerle + birleştirme, * tekrarlama yapar.\n",
    "\n",
    "🔹 2. Karşılaştırma Operatörleri\n",
    "Her zaman True veya False döndürür\n",
    "\n",
    "Program akışını kontrol etmek için kullanılır\n",
    "\n",
    "🔹 3. is vs == Farkı\n",
    "== → Değer karşılaştırması\n",
    "\n",
    "is → Bellek adresi karşılaştırması\n",
    "\n",
    "Küçük sayılar için Python optimize eder (-5 ile 256 arası)\n",
    "\n",
    "🔹 4. type() ve isinstance()\n",
    "type() → Kesin tür bilgisi\n",
    "\n",
    "isinstance() → Kalıtım durumunda daha esnek\n",
    "\n",
    "🔹 5. İşlem Önceliği\n",
    "PEMDAS kuralı:\n",
    "\n",
    "Parantez\n",
    "\n",
    "Exponents (Üs)\n",
    "\n",
    "Multiplication Division\n",
    "\n",
    "Addition Subtraction\n",
    "\n",
    "🔹 6. Mantıksal Operatörler\n",
    "and → Her iki koşul da True\n",
    "\n",
    "or → En az bir koşul True\n",
    "\n",
    "not → Tersini alır\n",
    "\n",
    "🔹 7. Short-Circuit Değerlendirme\n",
    "Python gereksiz işlemlerden kaçınır\n",
    "\n",
    "Performans optimizasyonu sağlar\n",
    "\n",
    "🔹 8. Karar Yapıları\n",
    "if → Temel koşul\n",
    "\n",
    "elif → Alternatif koşullar\n",
    "\n",
    "else → Diğer tüm durumlar\n",
    "\n",
    "🔹 9. Ternary Operatör\n",
    "Tek satırda koşullu atama\n",
    "\n",
    "Okunabilirliği artırır\n",
    "\n",
    "🔹 10. Tip Dönüşümleri\n",
    "int(), float(), str(), bool()\n",
    "\n",
    "input() her zaman string döndürür\n",
    "\n",
    "🔹 11. Girdi/Çıktı İşlemleri\n",
    "input() → Kullanıcı etkileşimi\n",
    "\n",
    "print() → Çıktı formatlama"
   ]
  },
  {
   "cell_type": "code",
   "execution_count": 3,
   "metadata": {
    "colab": {
     "base_uri": "https://localhost:8080/"
    },
    "executionInfo": {
     "elapsed": 25,
     "status": "ok",
     "timestamp": 1759854464696,
     "user": {
      "displayName": "Berkay Kaplan",
      "userId": "10737442907259944508"
     },
     "user_tz": -180
    },
    "id": "rtgQmYuWfczo",
    "outputId": "6d9ed5f1-decb-4084-df68-b38d6879d52d"
   },
   "outputs": [
    {
     "name": "stdout",
     "output_type": "stream",
     "text": [
      "3\n",
      "3\n",
      "32\n",
      "11\n",
      "14\n"
     ]
    }
   ],
   "source": [
    "\"\"\"\n",
    "🔸 SEVİYE 1: Temel Kavramlar\n",
    "Soru 1: Aritmetik İşlemler\n",
    "\"\"\"\n",
    "\n",
    "# Aşağıdaki işlemlerin sonuçlarını tahmin edin:\n",
    "print(15 // 4)     # ?\n",
    "print(15 % 4)      # ?\n",
    "print(2 ** 5)      # ?\n",
    "print(3 + 4 * 2)   # ?\n",
    "print((3 + 4) * 2) # ?"
   ]
  },
  {
   "cell_type": "code",
   "execution_count": null,
   "metadata": {
    "colab": {
     "base_uri": "https://localhost:8080/"
    },
    "executionInfo": {
     "elapsed": 45,
     "status": "ok",
     "timestamp": 1759854491787,
     "user": {
      "displayName": "Berkay Kaplan",
      "userId": "10737442907259944508"
     },
     "user_tz": -180
    },
    "id": "x_7M8pPkf9JH",
    "outputId": "2a67e39c-3e23-46eb-d1a9-dfca179ea2a3"
   },
   "outputs": [
    {
     "name": "stdout",
     "output_type": "stream",
     "text": [
      "True\n",
      "False\n",
      "True\n",
      "True\n"
     ]
    }
   ],
   "source": [
    "#Soru 2: Karşılaştırma Operatörleri\n",
    "x = 10\n",
    "y = 7\n",
    "print(x > y)        # ?\n",
    "print(x == y)       # ?\n",
    "print(x != y)       # ?\n",
    "print(x >= 10)      # ?"
   ]
  },
  {
   "cell_type": "code",
   "execution_count": null,
   "metadata": {
    "id": "2gibsSQvgHdi"
   },
   "outputs": [],
   "source": [
    "#Soru 3: is ve == Farkı\n",
    "\n",
    "a = 100\n",
    "b = 100\n",
    "c = 500\n",
    "d = 500\n",
    "\n",
    "print(a is b)       # \n",
    "print(c is d)       # \n",
    "print(a == b)       # \n",
    "print(c == d)       # "
   ]
  },
  {
   "cell_type": "code",
   "execution_count": 6,
   "metadata": {
    "colab": {
     "base_uri": "https://localhost:8080/",
     "height": 37
    },
    "executionInfo": {
     "elapsed": 19,
     "status": "ok",
     "timestamp": 1759854544645,
     "user": {
      "displayName": "Berkay Kaplan",
      "userId": "10737442907259944508"
     },
     "user_tz": -180
    },
    "id": "WfhxBnuqgMi7",
    "outputId": "ed6a247c-fb6e-466c-8dd4-bff3457023cb"
   },
   "outputs": [
    {
     "data": {
      "application/vnd.google.colaboratory.intrinsic+json": {
       "type": "string"
      },
      "text/plain": [
       "'\\n🔸 SEVİYE 2: Mantıksal Operatörler\\n\\n'"
      ]
     },
     "execution_count": 6,
     "metadata": {},
     "output_type": "execute_result"
    }
   ],
   "source": [
    "\"\"\"\n",
    "🔸 SEVİYE 2: Mantıksal Operatörler\n",
    "\n",
    "\"\"\""
   ]
  },
  {
   "cell_type": "code",
   "execution_count": null,
   "metadata": {
    "id": "k1vCc-otgRGA"
   },
   "outputs": [],
   "source": [
    "#Soru 4: Mantık Soruları\n",
    "x = 15\n",
    "y = 20\n",
    "z = 25\n",
    "\n",
    "print((x < y) and (y < z))          # \n",
    "print((x > y) or (y < z))           # \n",
    "print(not (x == y))                 # \n",
    "print((x < y) and (y > z or x < z)) # "
   ]
  },
  {
   "cell_type": "code",
   "execution_count": null,
   "metadata": {
    "id": "teiwuAmsgYBb"
   },
   "outputs": [],
   "source": [
    "\"\"\"\n",
    "🔸 SEVİYE 3: Karar Yapıları\n",
    "\"\"\""
   ]
  },
  {
   "cell_type": "code",
   "execution_count": null,
   "metadata": {
    "id": "g78ccOp4geT1"
   },
   "outputs": [],
   "source": [
    "#Soru 6: İf-elif-else Zinciri\n",
    "notu = 85\n",
    "\n",
    "if notu >= 90:\n",
    "    print(\"AA\")\n",
    "elif notu >= 80:\n",
    "    print(\"BA\")\n",
    "elif notu >= 70:\n",
    "    print(\"BB\")\n",
    "else:\n",
    "    print(\"Kaldı\")\n",
    "# Çıktı ne olur?"
   ]
  },
  {
   "cell_type": "code",
   "execution_count": null,
   "metadata": {
    "id": "zVqky5WzgsFU"
   },
   "outputs": [],
   "source": []
  },
  {
   "cell_type": "code",
   "execution_count": null,
   "metadata": {
    "id": "Hls7vCwkgj8T"
   },
   "outputs": [],
   "source": [
    "#Soru 7: İç İçe If Yapısı\n",
    "yas = 20\n",
    "ehliyet = True\n",
    "\n",
    "if yas >= 18:\n",
    "    if ehliyet:\n",
    "        print(\"Araç kullanabilir\")\n",
    "    else:\n",
    "        print(\"Ehliyetiniz yok\")\n",
    "else:\n",
    "    print(\"Yaşınız tutmuyor\")"
   ]
  },
  {
   "cell_type": "code",
   "execution_count": null,
   "metadata": {
    "id": "xPNTeyndgsoH"
   },
   "outputs": [],
   "source": [
    "#Soru 9: Tip Dönüşümü\n",
    "\n",
    "\n",
    "# Hangi satırlarda hata olur?\n",
    "x = \"15\"\n",
    "y = int(x) + 5\n",
    "z = float(\"3.14\")\n",
    "w = int(\"merhaba\")\n",
    "a = bool(0)\n",
    "b = bool(\"False\")\n",
    "c = str(123) + \"456\""
   ]
  },
  {
   "cell_type": "code",
   "execution_count": null,
   "metadata": {
    "id": "xyd2kVF7hB26"
   },
   "outputs": [],
   "source": [
    "\"\"\"\n",
    "🔸 SEVİYE 5: Girdi/Çıktı ve Uygulamalar\n",
    "\"\"\""
   ]
  },
  {
   "cell_type": "code",
   "execution_count": null,
   "metadata": {
    "id": "nNKS_SzJhFKr"
   },
   "outputs": [],
   "source": [
    "ad = \"Ali\"\n",
    "yas = 25\n",
    "print(ad, \"bu yıl\", yas, \"yaşında\")      # Varsayılan\n",
    "print(ad + \" bu yıl \" + str(yas) + \" yaşında\")  # String birleştirme\n",
    "print(f\"{ad} bu yıl {yas} yaşında\")      # f-string"
   ]
  },
  {
   "cell_type": "code",
   "execution_count": null,
   "metadata": {
    "id": "NdQX1d6fhMNe"
   },
   "outputs": [],
   "source": [
    "#UYGULAMALAR"
   ]
  },
  {
   "cell_type": "code",
   "execution_count": null,
   "metadata": {
    "id": "XvarW7g6hOO-"
   },
   "outputs": [],
   "source": [
    "\"\"\"\n",
    "Bir kullanıcının boyunu (metre cinsinden) ve kilosunu (kilogram cinsinden) alarak Vücut Kitle İndeksi'ni (VKİ) hesaplayan ve buna göre kişinin durumunu belirleyen bir Python programı yazın. Program şu şekilde çalışmalı:\n",
    "\n",
    "Kullanıcıdan boy ve kilo girdilerini alın.\n",
    "VKİ'yi hesaplayın: VKİ = kilo / (boy²).\n",
    "VKİ değerine göre durumu şu kategorilere ayırın:\n",
    "\n",
    "VKİ < 18.5 ise: \"Zayıf\"\n",
    "18.5 ≤ VKİ < 25 ise: \"Normal\"\n",
    "25 ≤ VKİ < 30 ise: \"Fazla kilolu\"\n",
    "VKİ ≥ 30 ise: \"Obez\"\n",
    "\n",
    "\n",
    "Sonucu \"VKİ: x.xx - Durum: [durum]\" formatında ekrana yazdırın (VKİ değeri iki ondalık basamaklı olsun).\n",
    "\"\"\"\n",
    "\n",
    "\n",
    "boy = float(input(\"Boyunuz (m): \"))\n",
    "kilo = float(input(\"Kilonuz (kg): \"))\n",
    "\n",
    "vki = kilo / (boy ** 2)\n",
    "\n",
    "if vki < 18.5:\n",
    "    durum = \"Zayıf\"\n",
    "elif vki < 25:\n",
    "    durum = \"Normal\"\n",
    "elif vki < 30:\n",
    "    durum = \"Fazla kilolu\"\n",
    "else:\n",
    "    durum = \"Obez\"\n",
    "\n",
    "print(f\"VKİ: {vki:.2f} - Durum: {durum}\")"
   ]
  },
  {
   "cell_type": "code",
   "execution_count": 8,
   "metadata": {
    "colab": {
     "base_uri": "https://localhost:8080/",
     "height": 373
    },
    "executionInfo": {
     "elapsed": 3483,
     "status": "error",
     "timestamp": 1759854953080,
     "user": {
      "displayName": "Berkay Kaplan",
      "userId": "10737442907259944508"
     },
     "user_tz": -180
    },
    "id": "epO4EQZxhpSz",
    "outputId": "3e6d0a05-0aad-432b-df32-100e99ff5f12"
   },
   "outputs": [
    {
     "ename": "KeyboardInterrupt",
     "evalue": "Interrupted by user",
     "output_type": "error",
     "traceback": [
      "\u001b[0;31m---------------------------------------------------------------------------\u001b[0m",
      "\u001b[0;31mKeyboardInterrupt\u001b[0m                         Traceback (most recent call last)",
      "\u001b[0;32m/tmp/ipython-input-853205336.py\u001b[0m in \u001b[0;36m<cell line: 0>\u001b[0;34m()\u001b[0m\n\u001b[1;32m     18\u001b[0m \u001b[0;34m\u001b[0m\u001b[0m\n\u001b[1;32m     19\u001b[0m \u001b[0;34m\u001b[0m\u001b[0m\n\u001b[0;32m---> 20\u001b[0;31m \u001b[0msayi1\u001b[0m \u001b[0;34m=\u001b[0m \u001b[0mfloat\u001b[0m\u001b[0;34m(\u001b[0m\u001b[0minput\u001b[0m\u001b[0;34m(\u001b[0m\u001b[0;34m\"Birinci sayı: \"\u001b[0m\u001b[0;34m)\u001b[0m\u001b[0;34m)\u001b[0m\u001b[0;34m\u001b[0m\u001b[0;34m\u001b[0m\u001b[0m\n\u001b[0m\u001b[1;32m     21\u001b[0m \u001b[0msayi2\u001b[0m \u001b[0;34m=\u001b[0m \u001b[0mfloat\u001b[0m\u001b[0;34m(\u001b[0m\u001b[0minput\u001b[0m\u001b[0;34m(\u001b[0m\u001b[0;34m\"İkinci sayı: \"\u001b[0m\u001b[0;34m)\u001b[0m\u001b[0;34m)\u001b[0m\u001b[0;34m\u001b[0m\u001b[0;34m\u001b[0m\u001b[0m\n\u001b[1;32m     22\u001b[0m \u001b[0mislem\u001b[0m \u001b[0;34m=\u001b[0m \u001b[0minput\u001b[0m\u001b[0;34m(\u001b[0m\u001b[0;34m\"İşlem (+, -, *, /): \"\u001b[0m\u001b[0;34m)\u001b[0m\u001b[0;34m\u001b[0m\u001b[0;34m\u001b[0m\u001b[0m\n",
      "\u001b[0;32m/usr/local/lib/python3.12/dist-packages/ipykernel/kernelbase.py\u001b[0m in \u001b[0;36mraw_input\u001b[0;34m(self, prompt)\u001b[0m\n\u001b[1;32m   1175\u001b[0m                 \u001b[0;34m\"raw_input was called, but this frontend does not support input requests.\"\u001b[0m\u001b[0;34m\u001b[0m\u001b[0;34m\u001b[0m\u001b[0m\n\u001b[1;32m   1176\u001b[0m             )\n\u001b[0;32m-> 1177\u001b[0;31m         return self._input_request(\n\u001b[0m\u001b[1;32m   1178\u001b[0m             \u001b[0mstr\u001b[0m\u001b[0;34m(\u001b[0m\u001b[0mprompt\u001b[0m\u001b[0;34m)\u001b[0m\u001b[0;34m,\u001b[0m\u001b[0;34m\u001b[0m\u001b[0;34m\u001b[0m\u001b[0m\n\u001b[1;32m   1179\u001b[0m             \u001b[0mself\u001b[0m\u001b[0;34m.\u001b[0m\u001b[0m_parent_ident\u001b[0m\u001b[0;34m[\u001b[0m\u001b[0;34m\"shell\"\u001b[0m\u001b[0;34m]\u001b[0m\u001b[0;34m,\u001b[0m\u001b[0;34m\u001b[0m\u001b[0;34m\u001b[0m\u001b[0m\n",
      "\u001b[0;32m/usr/local/lib/python3.12/dist-packages/ipykernel/kernelbase.py\u001b[0m in \u001b[0;36m_input_request\u001b[0;34m(self, prompt, ident, parent, password)\u001b[0m\n\u001b[1;32m   1217\u001b[0m             \u001b[0;32mexcept\u001b[0m \u001b[0mKeyboardInterrupt\u001b[0m\u001b[0;34m:\u001b[0m\u001b[0;34m\u001b[0m\u001b[0;34m\u001b[0m\u001b[0m\n\u001b[1;32m   1218\u001b[0m                 \u001b[0;31m# re-raise KeyboardInterrupt, to truncate traceback\u001b[0m\u001b[0;34m\u001b[0m\u001b[0;34m\u001b[0m\u001b[0m\n\u001b[0;32m-> 1219\u001b[0;31m                 \u001b[0;32mraise\u001b[0m \u001b[0mKeyboardInterrupt\u001b[0m\u001b[0;34m(\u001b[0m\u001b[0;34m\"Interrupted by user\"\u001b[0m\u001b[0;34m)\u001b[0m \u001b[0;32mfrom\u001b[0m \u001b[0;32mNone\u001b[0m\u001b[0;34m\u001b[0m\u001b[0;34m\u001b[0m\u001b[0m\n\u001b[0m\u001b[1;32m   1220\u001b[0m             \u001b[0;32mexcept\u001b[0m \u001b[0mException\u001b[0m\u001b[0;34m:\u001b[0m\u001b[0;34m\u001b[0m\u001b[0;34m\u001b[0m\u001b[0m\n\u001b[1;32m   1221\u001b[0m                 \u001b[0mself\u001b[0m\u001b[0;34m.\u001b[0m\u001b[0mlog\u001b[0m\u001b[0;34m.\u001b[0m\u001b[0mwarning\u001b[0m\u001b[0;34m(\u001b[0m\u001b[0;34m\"Invalid Message:\"\u001b[0m\u001b[0;34m,\u001b[0m \u001b[0mexc_info\u001b[0m\u001b[0;34m=\u001b[0m\u001b[0;32mTrue\u001b[0m\u001b[0;34m)\u001b[0m\u001b[0;34m\u001b[0m\u001b[0;34m\u001b[0m\u001b[0m\n",
      "\u001b[0;31mKeyboardInterrupt\u001b[0m: Interrupted by user"
     ]
    }
   ],
   "source": [
    "\"\"\"\n",
    "Bir kullanıcının iki sayı ve bir matematiksel işlem girdisi alarak basit bir hesap makinesi yapan Python programı yazın. Program şu şekilde çalışmalı:\n",
    "\n",
    "Kullanıcıdan \"Birinci sayı: \" sorusuyla birinci sayıyı (float olarak) alın.\n",
    "Kullanıcıdan \"İkinci sayı: \" sorusuyla ikinci sayıyı (float olarak) alın.\n",
    "Kullanıcıdan \"İşlem (+, -, *, /): \" sorusuyla işlemi alın.\n",
    "İşleme göre sonucu hesaplayın:\n",
    "\n",
    "\"+\" ise toplama,\n",
    "\"-\" ise çıkarma,\n",
    "\"*\" ise çarpma,\n",
    "\"/\" ise bölme (ikinci sayı sıfır değilse; sıfırsa \"Hata: Sıfıra bölünemez!\" mesajı verin).\n",
    "\n",
    "\n",
    "Geçersiz işlem girilirse \"Geçersiz işlem\" mesajı verin.\n",
    "Sonucu \"Sonuç: [sonuc]\" formatında ekrana yazdırın.\n",
    "\"\"\"\n",
    "\n",
    "\n",
    "sayi1 = float(input(\"Birinci sayı: \"))\n",
    "sayi2 = float(input(\"İkinci sayı: \"))\n",
    "islem = input(\"İşlem (+, -, *, /): \")\n",
    "\n",
    "if islem == \"+\":\n",
    "    sonuc = sayi1 + sayi2\n",
    "elif islem == \"-\":\n",
    "    sonuc = sayi1 - sayi2\n",
    "elif islem == \"*\":\n",
    "    sonuc = sayi1 * sayi2\n",
    "elif islem == \"/\":\n",
    "    if sayi2 != 0:\n",
    "        sonuc = sayi1 / sayi2\n",
    "    else:\n",
    "        sonuc = \"Hata: Sıfıra bölünemez!\"\n",
    "else:\n",
    "    sonuc = \"Geçersiz işlem\"\n",
    "\n",
    "print(\"Sonuç:\", sonuc)"
   ]
  },
  {
   "cell_type": "code",
   "execution_count": null,
   "metadata": {
    "id": "6ZInkHvLhyxo"
   },
   "outputs": [],
   "source": [
    "#    ❓ DEĞERLENDİRME SORULARI\n",
    "#    \"10\" + 5 işlemi neden hata verir? Nasıl düzeltilir?\n",
    "\"     çünkü biri string diğeri int formatında olduğu için toplama yapılamaz eğerki yazı olarak birleştirmek istiyor isek:\"\n",
    "    print(10+str(5)) #burada sonuç 105 çıkar\n",
    "\"      eğer toplama işlemi yapılacak ise: \"\n",
    "    print(int(10)+5) #burada sonuç 15 tir\n",
    "\n",
    "\n",
    "\n",
    "\n",
    "#    0.1 + 0.2 == 0.3 ifadesi neden False döner?\n",
    "\n",
    "    \"Ondalıklı sayılar bilgisayarlarda ikili sistemde depolanır. 0.1 ve 0.2 gibi bazı ondalıklı sayılar ikili sistemde sonsuz tekrar eden kesirler olarak ifade edilir: \"\n",
    "\n",
    "\n",
    "print(f\"0.1 gerçek değeri: {0.1:.20f}\")\n",
    "print(f\"0.2 gerçek değeri: {0.2:.20f}\")\n",
    "print(f\"0.1 + 0.2 gerçek değeri: {(0.1 + 0.2):.20f}\")\n",
    "print(f\"0.3 gerçek değeri: {0.3:.20f}\")\n",
    "\n",
    "0.1 gerçek değeri: 0.10000000000000000555\n",
    "0.2 gerçek değeri: 0.20000000000000001110\n",
    "0.1 + 0.2 gerçek değeri: 0.30000000000000004441\n",
    "0.3 gerçek değeri: 0.29999999999999998890\n",
    "\n",
    "\n",
    "\n",
    "#   and ve or operatörlerinin öncelik sırası nedir?\n",
    "\n",
    "and or dan daha öncedir\n",
    "\n",
    "#    input() fonksiyonu neden her zaman string döndürür?\n",
    " çünkü input girdisi sayısal işşlemsel veya harflr yazılsa bile stringde hata vermez hatayı engeller bu durum"
   ]
  },
  {
   "cell_type": "code",
   "execution_count": null,
   "metadata": {
    "colab": {
     "base_uri": "https://localhost:8080/"
    },
    "executionInfo": {
     "elapsed": 12,
     "status": "ok",
     "timestamp": 1759855116913,
     "user": {
      "displayName": "Berkay Kaplan",
      "userId": "10737442907259944508"
     },
     "user_tz": -180
    },
    "id": "Qxk2noo0iGMH",
    "outputId": "fd61b44a-7b48-496d-e4b2-fed8d7cbf025"
   },
   "outputs": [
    {
     "data": {
      "text/plain": [
       "True"
      ]
     },
     "execution_count": 12,
     "metadata": {},
     "output_type": "execute_result"
    }
   ],
   "source": []
  },
  {
   "cell_type": "code",
   "execution_count": null,
   "metadata": {
    "id": "DqeSGL2BiN-v"
   },
   "outputs": [],
   "source": []
  }
 ],
 "metadata": {
  "colab": {
   "authorship_tag": "ABX9TyMJGohPwQQf/E+7ZTCeuw/j",
   "provenance": []
  },
  "kernelspec": {
   "display_name": "Python 3",
   "name": "python3"
  },
  "language_info": {
   "name": "python"
  }
 },
 "nbformat": 4,
 "nbformat_minor": 0
}
